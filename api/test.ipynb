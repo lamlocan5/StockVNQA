{
 "cells": [
  {
   "cell_type": "code",
   "execution_count": 13,
   "id": "e917738b",
   "metadata": {},
   "outputs": [
    {
     "data": {
      "text/html": [
       "<div>\n",
       "<style scoped>\n",
       "    .dataframe tbody tr th:only-of-type {\n",
       "        vertical-align: middle;\n",
       "    }\n",
       "\n",
       "    .dataframe tbody tr th {\n",
       "        vertical-align: top;\n",
       "    }\n",
       "\n",
       "    .dataframe thead th {\n",
       "        text-align: right;\n",
       "    }\n",
       "</style>\n",
       "<table border=\"1\" class=\"dataframe\">\n",
       "  <thead>\n",
       "    <tr style=\"text-align: right;\">\n",
       "      <th></th>\n",
       "      <th>symbol</th>\n",
       "      <th>year_report</th>\n",
       "      <th>length_report</th>\n",
       "      <th>update_date</th>\n",
       "      <th>revenue</th>\n",
       "      <th>revenue_growth</th>\n",
       "      <th>net_profit</th>\n",
       "      <th>net_profit_growth</th>\n",
       "      <th>ebit_margin</th>\n",
       "      <th>roe</th>\n",
       "      <th>...</th>\n",
       "      <th>rtq4</th>\n",
       "      <th>charter_capital_ratio</th>\n",
       "      <th>rtq10</th>\n",
       "      <th>dividend</th>\n",
       "      <th>ebitda</th>\n",
       "      <th>ebit</th>\n",
       "      <th>le</th>\n",
       "      <th>de</th>\n",
       "      <th>ccc</th>\n",
       "      <th>rtq17</th>\n",
       "    </tr>\n",
       "  </thead>\n",
       "  <tbody>\n",
       "    <tr>\n",
       "      <th>0</th>\n",
       "      <td>ACB</td>\n",
       "      <td>2025</td>\n",
       "      <td>1</td>\n",
       "      <td>1745422597663</td>\n",
       "      <td>13327306000000</td>\n",
       "      <td>0.111758</td>\n",
       "      <td>3678266000000</td>\n",
       "      <td>-0.058164</td>\n",
       "      <td>0</td>\n",
       "      <td>0.204361</td>\n",
       "      <td>...</td>\n",
       "      <td>0</td>\n",
       "      <td>1.949435</td>\n",
       "      <td>9.240355</td>\n",
       "      <td>0.038986</td>\n",
       "      <td>0</td>\n",
       "      <td>0</td>\n",
       "      <td>0</td>\n",
       "      <td>9.240355</td>\n",
       "      <td>None</td>\n",
       "      <td>0</td>\n",
       "    </tr>\n",
       "  </tbody>\n",
       "</table>\n",
       "<p>1 rows × 46 columns</p>\n",
       "</div>"
      ],
      "text/plain": [
       "  symbol  year_report  length_report    update_date         revenue  \\\n",
       "0    ACB         2025              1  1745422597663  13327306000000   \n",
       "\n",
       "   revenue_growth     net_profit  net_profit_growth  ebit_margin       roe  \\\n",
       "0        0.111758  3678266000000          -0.058164            0  0.204361   \n",
       "\n",
       "   ...  rtq4  charter_capital_ratio     rtq10  dividend  ebitda  ebit  le  \\\n",
       "0  ...     0               1.949435  9.240355  0.038986       0     0   0   \n",
       "\n",
       "         de   ccc  rtq17  \n",
       "0  9.240355  None      0  \n",
       "\n",
       "[1 rows x 46 columns]"
      ]
     },
     "execution_count": 13,
     "metadata": {},
     "output_type": "execute_result"
    }
   ],
   "source": [
    "from vnstock.explorer.vci import Company\n",
    "company = Company('ACB')\n",
    "company.ratio_summary()"
   ]
  },
  {
   "cell_type": "code",
   "execution_count": 6,
   "id": "1f654a15",
   "metadata": {},
   "outputs": [
    {
     "ename": "AttributeError",
     "evalue": "'Company' object has no attribute 'reports'",
     "output_type": "error",
     "traceback": [
      "\u001b[31m---------------------------------------------------------------------------\u001b[39m",
      "\u001b[31mAttributeError\u001b[39m                            Traceback (most recent call last)",
      "\u001b[36mCell\u001b[39m\u001b[36m \u001b[39m\u001b[32mIn[6]\u001b[39m\u001b[32m, line 4\u001b[39m\n\u001b[32m      1\u001b[39m \u001b[38;5;28;01mfrom\u001b[39;00m\u001b[38;5;250m \u001b[39m\u001b[34;01mvnstock\u001b[39;00m\u001b[38;5;250m \u001b[39m\u001b[38;5;28;01mimport\u001b[39;00m Vnstock\n\u001b[32m      3\u001b[39m company = Vnstock().stock(symbol = \u001b[33m\"\u001b[39m\u001b[33mACB\u001b[39m\u001b[33m\"\u001b[39m).company\n\u001b[32m----> \u001b[39m\u001b[32m4\u001b[39m \u001b[43mcompany\u001b[49m\u001b[43m.\u001b[49m\u001b[43mreports\u001b[49m()\n",
      "\u001b[31mAttributeError\u001b[39m: 'Company' object has no attribute 'reports'"
     ]
    }
   ],
   "source": [
    "from vnstock import Vnstock\n",
    "\n",
    "company = Vnstock().stock(symbol = \"ACB\").company\n",
    "company.reports()\n"
   ]
  }
 ],
 "metadata": {
  "kernelspec": {
   "display_name": "stockqa",
   "language": "python",
   "name": "python3"
  },
  "language_info": {
   "codemirror_mode": {
    "name": "ipython",
    "version": 3
   },
   "file_extension": ".py",
   "mimetype": "text/x-python",
   "name": "python",
   "nbconvert_exporter": "python",
   "pygments_lexer": "ipython3",
   "version": "3.12.9"
  }
 },
 "nbformat": 4,
 "nbformat_minor": 5
}
