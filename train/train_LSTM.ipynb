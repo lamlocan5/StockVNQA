{
 "cells": [
  {
   "cell_type": "code",
   "execution_count": null,
   "id": "3deda4d4",
   "metadata": {},
   "outputs": [],
   "source": [
    "# ===== 1. IMPORT THƯ VIỆN =====\n",
    "import pandas as pd\n",
    "import numpy as np\n",
    "import os\n",
    "import matplotlib.pyplot as plt\n",
    "from sklearn.preprocessing import MinMaxScaler\n",
    "from sklearn.metrics import mean_squared_error, r2_score\n",
    "from tensorflow.keras.models import Sequential\n",
    "from tensorflow.keras.layers import LSTM, Dense\n",
    "\n",
    "def train(ticker):\n",
    "    try:\n",
    "        df = pd.read_csv(f\"E:/Project/StockVNQA_Lâm/train/data/{ticker}.csv\")\n",
    "        \n",
    "        if len(df) < 60:  # Cần ít nhất 60 dòng dữ liệu\n",
    "            return None\n",
    "        \n",
    "        # Kiểm tra dữ liệu đầu vào\n",
    "        if 'open' not in df.columns:\n",
    "            # Không có cột 'open', vẫn sử dụng features hiện tại\n",
    "            features = ['close', 'volume', 'high', 'low']\n",
    "        else:\n",
    "            # Có cột 'open', thêm vào features\n",
    "            features = ['close', 'open', 'volume', 'high', 'low']\n",
    "        \n",
    "        # --- PHẦN 1: TÍNH TOÁN CÁC FEATURES MỚI ---\n",
    "        # Tạo bản sao để không làm ảnh hưởng đến dữ liệu gốc\n",
    "        df_features = df.copy()\n",
    "        \n",
    "        # KIỂM TRA VÀ XỬ LÝ GIÁ TRỊ KHÔNG HỢP LỆ TRONG DỮ LIỆU GỐC\n",
    "        # Thay thế các giá trị âm hoặc 0 trong volume bằng giá trị nhỏ\n",
    "        if (df_features['volume'] <= 0).any():\n",
    "            min_positive_volume = df_features.loc[df_features['volume'] > 0, 'volume'].min()\n",
    "            df_features.loc[df_features['volume'] <= 0, 'volume'] = min_positive_volume * 0.01\n",
    "            \n",
    "        # Đảm bảo giá không có giá trị âm\n",
    "        for price_col in ['close', 'high', 'low']:\n",
    "            if (df_features[price_col] <= 0).any():\n",
    "                print(f\"⚠️ {ticker} có giá {price_col} không hợp lệ (âm hoặc bằng 0)\")\n",
    "                return None\n",
    "        \n",
    "        # Tính toán các đặc trưng tương đối một cách an toàn\n",
    "        df_features['daily_return'] = df_features['close'].pct_change().replace([np.inf, -np.inf], np.nan)\n",
    "        df_features['high_low_range'] = ((df_features['high'] - df_features['low']) / df_features['close']).replace([np.inf, -np.inf], np.nan)\n",
    "        \n",
    "        # Nếu có cột open thì tính thêm đặc trưng close_to_open\n",
    "        if 'open' in df.columns:\n",
    "            df_features['close_to_open'] = ((df_features['close'] - df_features['open']) / df_features['open']).replace([np.inf, -np.inf], np.nan)\n",
    "        \n",
    "        # Tính toán các chỉ báo trung bình động\n",
    "        df_features['ma5'] = df_features['close'].rolling(window=5).mean()\n",
    "        df_features['ma20'] = df_features['close'].rolling(window=20).mean()\n",
    "        \n",
    "        # Xử lý trường hợp chia cho 0 hoặc NaN\n",
    "        ma5 = df_features['ma5']\n",
    "        ma20 = df_features['ma20']\n",
    "        mask = (ma20 != 0) & ma20.notnull() & ma5.notnull()\n",
    "        df_features['ma_ratio'] = np.nan\n",
    "        df_features.loc[mask, 'ma_ratio'] = ma5.loc[mask] / ma20.loc[mask]\n",
    "        \n",
    "        # Tính toán độ biến động (volatility) an toàn\n",
    "        df_features['volatility_5d'] = df_features['daily_return'].rolling(window=5).std().replace([np.inf, -np.inf], np.nan)\n",
    "        \n",
    "        # Phân tích khối lượng\n",
    "        df_features['volume_ma5'] = df_features['volume'].rolling(window=5).mean()\n",
    "        \n",
    "        # Xử lý trường hợp chia cho 0 hoặc NaN\n",
    "        vol = df_features['volume']\n",
    "        vol_ma5 = df_features['volume_ma5']\n",
    "        mask = (vol_ma5 != 0) & vol_ma5.notnull() & vol.notnull()\n",
    "        df_features['volume_ratio'] = np.nan\n",
    "        df_features.loc[mask, 'volume_ratio'] = vol.loc[mask] / vol_ma5.loc[mask]\n",
    "        \n",
    "        # Xử lý giá trị thiếu từ việc tính toán các chỉ báo - sửa warning\n",
    "        df_features = df_features.ffill()  # Thay vì fillna(method='ffill')\n",
    "        df_features = df_features.fillna(0)  # Điền 0 cho các giá trị NaN còn lại ở đầu\n",
    "        \n",
    "        # --- PHẦN 2: CHUẨN BỊ DỮ LIỆU ĐẦU VÀO ---\n",
    "        # Danh sách các đặc trưng sẽ sử dụng, bao gồm cả đặc trưng gốc và đặc trưng mới\n",
    "        extended_features = features.copy()  # Giữ các đặc trưng gốc\n",
    "        \n",
    "        # Thêm các đặc trưng mới đã tính toán\n",
    "        additional_features = [\n",
    "            'daily_return', 'high_low_range', 'ma_ratio', \n",
    "            'volatility_5d', 'volume_ratio'\n",
    "        ]\n",
    "        \n",
    "        # Thêm close_to_open nếu có dữ liệu open\n",
    "        if 'open' in df.columns:\n",
    "            additional_features.append('close_to_open')\n",
    "            \n",
    "        # Kết hợp tất cả đặc trưng và kiểm tra giá trị không hợp lệ\n",
    "        for feat in additional_features:\n",
    "            if feat in df_features.columns:  # Chỉ thêm feature nếu tồn tại\n",
    "                # Kiểm tra giá trị không hợp lệ\n",
    "                if df_features[feat].isnull().any() or np.isinf(df_features[feat]).any():\n",
    "                    print(f\"⚠️ {ticker} có giá trị NaN hoặc Inf trong feature {feat}. Thay thế bằng 0.\")\n",
    "                    df_features[feat] = df_features[feat].replace([np.inf, -np.inf], 0).fillna(0)\n",
    "                extended_features.append(feat)\n",
    "        \n",
    "        # KIỂM TRA LẦN CUỐI TRƯỚC KHI CHUẨN HÓA\n",
    "        # Thay thế bất kỳ giá trị không hợp lệ còn lại\n",
    "        df_check = df_features[extended_features]\n",
    "        if df_check.isnull().any().any() or np.isinf(df_check).any().any():\n",
    "            print(f\"⚠️ {ticker} vẫn có giá trị không hợp lệ. Làm sạch dữ liệu...\")\n",
    "            df_check = df_check.replace([np.inf, -np.inf], 0)\n",
    "            df_check = df_check.fillna(0)\n",
    "            df_features[extended_features] = df_check\n",
    "        \n",
    "        # Chuẩn hóa tất cả đặc trưng\n",
    "        scaler = MinMaxScaler()\n",
    "        try:\n",
    "            scaled_data = scaler.fit_transform(df_features[extended_features])\n",
    "        except Exception as scale_error:\n",
    "            print(f\"❌ {ticker} - Lỗi khi chuẩn hóa dữ liệu: {str(scale_error)}\")\n",
    "            # Hiển thị thêm thông tin để debug\n",
    "            print(f\"Kiểm tra giá trị không hợp lệ: {df_features[extended_features].describe()}\")\n",
    "            return None\n",
    "\n",
    "        # --- PHẦN 3: TẠO CHUỖI DỮ LIỆU CHO LSTM ---\n",
    "        def create_dataset(data, window_size=30):\n",
    "            X, y = [], []\n",
    "            for i in range(len(data) - window_size):\n",
    "                X.append(data[i:i+window_size])\n",
    "                y.append(data[i+window_size, 0])  # Vẫn dự đoán close (cột đầu tiên)\n",
    "            return np.array(X), np.array(y)\n",
    "\n",
    "        window_size = 30\n",
    "        X, y = create_dataset(scaled_data, window_size)\n",
    "\n",
    "        # --- PHẦN 4: CHIA DỮ LIỆU TRAIN/TEST ---\n",
    "        split = int(len(X) * 0.8)\n",
    "        X_train, X_test = X[:split], X[split:]\n",
    "        y_train, y_test = y[:split], y[split:]\n",
    "\n",
    "        # --- PHẦN 5: XÂY DỰNG VÀ HUẤN LUYỆN MÔ HÌNH ---\n",
    "        model = Sequential()\n",
    "        model.add(LSTM(64, input_shape=(window_size, X.shape[2])))\n",
    "        model.add(Dense(1))\n",
    "        model.compile(optimizer='adam', loss='mean_squared_error')\n",
    "        model.fit(X_train, y_train, epochs=50, batch_size=16, verbose=0)\n",
    "\n",
    "        # --- PHẦN 6: DỰ ĐOÁN VÀ ĐÁNH GIÁ ---\n",
    "        y_pred = model.predict(X_test)\n",
    "        \n",
    "        # Chuyển đổi giá trị về thang đo gốc\n",
    "        # Tạo mảng với giá trị dự đoán ở vị trí đầu tiên và 0 ở các vị trí còn lại\n",
    "        y_pred_full = np.zeros((len(y_pred), len(extended_features)))\n",
    "        y_pred_full[:, 0] = y_pred.flatten()  # Đặt giá trị dự đoán vào cột đầu tiên (close)\n",
    "        \n",
    "        # Tương tự với giá trị thực tế\n",
    "        y_test_full = np.zeros((len(y_test), len(extended_features)))\n",
    "        y_test_full[:, 0] = y_test  # Đặt giá trị thực tế vào cột đầu tiên (close)\n",
    "        \n",
    "        # Inverse transform để lấy giá trị gốc\n",
    "        y_pred_inv = scaler.inverse_transform(y_pred_full)[:, 0]\n",
    "        y_test_inv = scaler.inverse_transform(y_test_full)[:, 0]\n",
    "\n",
    "        # Tính RMSE\n",
    "        rmse = np.sqrt(mean_squared_error(y_test_inv, y_pred_inv))\n",
    "        \n",
    "        # Tính R²\n",
    "        r2 = r2_score(y_test_inv, y_pred_inv)\n",
    "        \n",
    "        # Tính Direction Accuracy\n",
    "        start_idx = window_size + split\n",
    "        actual_current_prices = df['close'].values[start_idx:start_idx+len(y_test_inv)-1]\n",
    "        \n",
    "        # Đảm bảo các mảng có cùng kích thước\n",
    "        min_len = min(len(y_test_inv)-1, len(actual_current_prices))\n",
    "        \n",
    "        # Tính hướng giá thực tế và dự đoán, chỉ dùng phần chồng lấp\n",
    "        actual_direction = (y_test_inv[1:min_len+1] > actual_current_prices[:min_len]).astype(int)\n",
    "        predicted_direction = (y_pred_inv[1:min_len+1] > actual_current_prices[:min_len]).astype(int)\n",
    "        \n",
    "        # Tính direction accuracy\n",
    "        direction_accuracy = np.mean(actual_direction == predicted_direction)\n",
    "        \n",
    "        # --- PHẦN 7: DỰ ĐOÁN GIÁ CHO NGÀY TIẾP THEO ---\n",
    "        last_seq = scaled_data[-window_size:]\n",
    "        last_seq = last_seq.reshape((1, window_size, len(extended_features)))\n",
    "        next_day_scaled = model.predict(last_seq)\n",
    "        \n",
    "        # Tạo mảng đầy đủ để inverse transform\n",
    "        next_day_full = np.zeros((1, len(extended_features)))\n",
    "        next_day_full[0, 0] = next_day_scaled[0, 0]  # Đặt giá trị dự đoán vào cột đầu tiên\n",
    "        \n",
    "        next_day_price = scaler.inverse_transform(next_day_full)[0][0]\n",
    "        \n",
    "        # Tính % thay đổi\n",
    "        current_price = df['close'].iloc[-1]\n",
    "        change_pct = ((next_day_price - current_price) / current_price) * 100\n",
    "        \n",
    "        # Tùy chọn: Vẽ biểu đồ so sánh giá thực tế và dự đoán\n",
    "        try:\n",
    "            plt.figure(figsize=(10, 6))\n",
    "            plt.plot(y_test_inv, label='Giá thực tế', marker='o', markersize=3, alpha=0.7)\n",
    "            plt.plot(y_pred_inv, label='Giá dự đoán', marker='x', markersize=3)\n",
    "            plt.title(f'Dự đoán giá {ticker} bằng LSTM (RMSE: {rmse:.4f}, R²: {r2:.4f})')\n",
    "            plt.xlabel('Ngày kiểm tra')\n",
    "            plt.ylabel('Giá đóng cửa')\n",
    "            plt.legend()\n",
    "            plt.grid(True, alpha=0.3)\n",
    "            plt.tight_layout()\n",
    "            \n",
    "            import os\n",
    "            os.makedirs(\"E:/Project/StockVNQA_Lâm/train/charts\", exist_ok=True)\n",
    "            plt.savefig(f\"E:/Project/StockVNQA_Lâm/train/charts/{ticker}_prediction.png\")\n",
    "            plt.show()\n",
    "            plt.close()\n",
    "        except Exception as chart_error:\n",
    "            print(f\"⚠️ Không thể vẽ biểu đồ cho {ticker}: {str(chart_error)}\")\n",
    "        \n",
    "        return {\n",
    "            'ticker': ticker,\n",
    "            'total_days': len(df),\n",
    "            'train_days': len(y_train),\n",
    "            'test_days': len(y_test),\n",
    "            'rmse': rmse,\n",
    "            'r2': r2,\n",
    "            'direction_accuracy': direction_accuracy,\n",
    "            'current_price': current_price,\n",
    "            'predicted_price': next_day_price,\n",
    "            'change_pct': change_pct,\n",
    "            'trend': 'UP' if change_pct > 0 else 'DOWN'\n",
    "        }\n",
    "        \n",
    "    except Exception as e:\n",
    "        print(f\"❌ Lỗi xử lý {ticker} với LSTM: {str(e)}\")\n",
    "        import traceback\n",
    "        traceback.print_exc()\n",
    "        return None\n",
    "\n",
    "\n",
    "import json\n",
    "def load_tickers_from_file(filename, base_path=\"E:/Project/StockVNQA_Lâm/train/\"):\n",
    "    file_path = os.path.join(base_path, filename)\n",
    "    with open(file_path, 'r') as f:\n",
    "        return [line.strip() for line in f]\n",
    "    \n",
    "\n",
    "\n",
    "\n",
    "\n"
   ]
  },
  {
   "cell_type": "code",
   "execution_count": 21,
   "id": "a97d8647",
   "metadata": {},
   "outputs": [
    {
     "name": "stderr",
     "output_type": "stream",
     "text": [
      "c:\\Users\\ADMIN\\miniconda3\\envs\\stockqa\\Lib\\site-packages\\keras\\src\\layers\\rnn\\rnn.py:200: UserWarning: Do not pass an `input_shape`/`input_dim` argument to a layer. When using Sequential models, prefer using an `Input(shape)` object as the first layer in the model instead.\n",
      "  super().__init__(**kwargs)\n"
     ]
    },
    {
     "name": "stdout",
     "output_type": "stream",
     "text": [
      "\u001b[1m29/29\u001b[0m \u001b[32m━━━━━━━━━━━━━━━━━━━━\u001b[0m\u001b[37m\u001b[0m \u001b[1m0s\u001b[0m 10ms/step\n",
      "\u001b[1m1/1\u001b[0m \u001b[32m━━━━━━━━━━━━━━━━━━━━\u001b[0m\u001b[37m\u001b[0m \u001b[1m0s\u001b[0m 43ms/step\n",
      "{'ticker': 'ACB', 'total_days': 4605, 'train_days': 3660, 'test_days': 915, 'rmse': np.float64(0.31587244597363195), 'r2': 0.9916877851324002, 'direction_accuracy': np.float64(0.5054704595185996), 'current_price': np.float64(25.6), 'predicted_price': np.float64(25.34603397369385), 'change_pct': np.float64(-0.9920547902584065), 'trend': 'DOWN'}\n"
     ]
    }
   ],
   "source": [
    "print(train(\"ACB\"))"
   ]
  },
  {
   "cell_type": "markdown",
   "id": "b574ca67",
   "metadata": {},
   "source": [
    "R2 TICKERS THẤP NHẤT (THEO XGBOOST)"
   ]
  },
  {
   "cell_type": "code",
   "execution_count": 14,
   "id": "d878df9d",
   "metadata": {},
   "outputs": [
    {
     "name": "stdout",
     "output_type": "stream",
     "text": [
      "['TMB', 'DDG', 'AAT', 'RCD', 'GH3', 'BSA', 'THM', 'HTR', 'FRT', 'SBG']\n"
     ]
    },
    {
     "name": "stderr",
     "output_type": "stream",
     "text": [
      "C:\\Users\\ADMIN\\AppData\\Local\\Temp\\ipykernel_9204\\788956016.py:34: FutureWarning: Setting an item of incompatible dtype is deprecated and will raise an error in a future version of pandas. Value '0.01' has dtype incompatible with int64, please explicitly cast to a compatible dtype first.\n",
      "  df_features.loc[df_features['volume'] <= 0, 'volume'] = min_positive_volume * 0.01\n",
      "c:\\Users\\ADMIN\\miniconda3\\envs\\stockqa\\Lib\\site-packages\\keras\\src\\layers\\rnn\\rnn.py:200: UserWarning: Do not pass an `input_shape`/`input_dim` argument to a layer. When using Sequential models, prefer using an `Input(shape)` object as the first layer in the model instead.\n",
      "  super().__init__(**kwargs)\n"
     ]
    },
    {
     "name": "stdout",
     "output_type": "stream",
     "text": [
      "\u001b[1m13/13\u001b[0m \u001b[32m━━━━━━━━━━━━━━━━━━━━\u001b[0m\u001b[37m\u001b[0m \u001b[1m0s\u001b[0m 12ms/step\n",
      "\u001b[1m1/1\u001b[0m \u001b[32m━━━━━━━━━━━━━━━━━━━━\u001b[0m\u001b[37m\u001b[0m \u001b[1m0s\u001b[0m 26ms/step\n"
     ]
    },
    {
     "name": "stderr",
     "output_type": "stream",
     "text": [
      "c:\\Users\\ADMIN\\miniconda3\\envs\\stockqa\\Lib\\site-packages\\keras\\src\\layers\\rnn\\rnn.py:200: UserWarning: Do not pass an `input_shape`/`input_dim` argument to a layer. When using Sequential models, prefer using an `Input(shape)` object as the first layer in the model instead.\n",
      "  super().__init__(**kwargs)\n"
     ]
    },
    {
     "name": "stdout",
     "output_type": "stream",
     "text": [
      "\u001b[1m10/10\u001b[0m \u001b[32m━━━━━━━━━━━━━━━━━━━━\u001b[0m\u001b[37m\u001b[0m \u001b[1m0s\u001b[0m 15ms/step\n",
      "\u001b[1m1/1\u001b[0m \u001b[32m━━━━━━━━━━━━━━━━━━━━\u001b[0m\u001b[37m\u001b[0m \u001b[1m0s\u001b[0m 27ms/step\n"
     ]
    },
    {
     "name": "stderr",
     "output_type": "stream",
     "text": [
      "c:\\Users\\ADMIN\\miniconda3\\envs\\stockqa\\Lib\\site-packages\\keras\\src\\layers\\rnn\\rnn.py:200: UserWarning: Do not pass an `input_shape`/`input_dim` argument to a layer. When using Sequential models, prefer using an `Input(shape)` object as the first layer in the model instead.\n",
      "  super().__init__(**kwargs)\n"
     ]
    },
    {
     "name": "stdout",
     "output_type": "stream",
     "text": [
      "\u001b[1m7/7\u001b[0m \u001b[32m━━━━━━━━━━━━━━━━━━━━\u001b[0m\u001b[37m\u001b[0m \u001b[1m0s\u001b[0m 22ms/step\n",
      "\u001b[1m1/1\u001b[0m \u001b[32m━━━━━━━━━━━━━━━━━━━━\u001b[0m\u001b[37m\u001b[0m \u001b[1m0s\u001b[0m 36ms/step\n"
     ]
    },
    {
     "name": "stderr",
     "output_type": "stream",
     "text": [
      "C:\\Users\\ADMIN\\AppData\\Local\\Temp\\ipykernel_9204\\788956016.py:34: FutureWarning: Setting an item of incompatible dtype is deprecated and will raise an error in a future version of pandas. Value '0.01' has dtype incompatible with int64, please explicitly cast to a compatible dtype first.\n",
      "  df_features.loc[df_features['volume'] <= 0, 'volume'] = min_positive_volume * 0.01\n",
      "c:\\Users\\ADMIN\\miniconda3\\envs\\stockqa\\Lib\\site-packages\\keras\\src\\layers\\rnn\\rnn.py:200: UserWarning: Do not pass an `input_shape`/`input_dim` argument to a layer. When using Sequential models, prefer using an `Input(shape)` object as the first layer in the model instead.\n",
      "  super().__init__(**kwargs)\n"
     ]
    },
    {
     "name": "stdout",
     "output_type": "stream",
     "text": [
      "⚠️ RCD có giá close không hợp lệ (âm hoặc bằng 0)\n",
      "\u001b[1m5/5\u001b[0m \u001b[32m━━━━━━━━━━━━━━━━━━━━\u001b[0m\u001b[37m\u001b[0m \u001b[1m0s\u001b[0m 33ms/step\n",
      "\u001b[1m1/1\u001b[0m \u001b[32m━━━━━━━━━━━━━━━━━━━━\u001b[0m\u001b[37m\u001b[0m \u001b[1m0s\u001b[0m 25ms/step\n"
     ]
    },
    {
     "name": "stderr",
     "output_type": "stream",
     "text": [
      "C:\\Users\\ADMIN\\AppData\\Local\\Temp\\ipykernel_9204\\788956016.py:34: FutureWarning: Setting an item of incompatible dtype is deprecated and will raise an error in a future version of pandas. Value '0.01' has dtype incompatible with int64, please explicitly cast to a compatible dtype first.\n",
      "  df_features.loc[df_features['volume'] <= 0, 'volume'] = min_positive_volume * 0.01\n",
      "c:\\Users\\ADMIN\\miniconda3\\envs\\stockqa\\Lib\\site-packages\\keras\\src\\layers\\rnn\\rnn.py:200: UserWarning: Do not pass an `input_shape`/`input_dim` argument to a layer. When using Sequential models, prefer using an `Input(shape)` object as the first layer in the model instead.\n",
      "  super().__init__(**kwargs)\n"
     ]
    },
    {
     "name": "stdout",
     "output_type": "stream",
     "text": [
      "\u001b[1m11/11\u001b[0m \u001b[32m━━━━━━━━━━━━━━━━━━━━\u001b[0m\u001b[37m\u001b[0m \u001b[1m0s\u001b[0m 17ms/step\n",
      "\u001b[1m1/1\u001b[0m \u001b[32m━━━━━━━━━━━━━━━━━━━━\u001b[0m\u001b[37m\u001b[0m \u001b[1m0s\u001b[0m 29ms/step\n"
     ]
    },
    {
     "name": "stderr",
     "output_type": "stream",
     "text": [
      "c:\\Users\\ADMIN\\miniconda3\\envs\\stockqa\\Lib\\site-packages\\keras\\src\\layers\\rnn\\rnn.py:200: UserWarning: Do not pass an `input_shape`/`input_dim` argument to a layer. When using Sequential models, prefer using an `Input(shape)` object as the first layer in the model instead.\n",
      "  super().__init__(**kwargs)\n"
     ]
    },
    {
     "name": "stdout",
     "output_type": "stream",
     "text": [
      "\u001b[1m2/2\u001b[0m \u001b[32m━━━━━━━━━━━━━━━━━━━━\u001b[0m\u001b[37m\u001b[0m \u001b[1m0s\u001b[0m 132ms/step\n",
      "\u001b[1m1/1\u001b[0m \u001b[32m━━━━━━━━━━━━━━━━━━━━\u001b[0m\u001b[37m\u001b[0m \u001b[1m0s\u001b[0m 29ms/step\n",
      "⚠️ HTR có giá close không hợp lệ (âm hoặc bằng 0)\n"
     ]
    },
    {
     "name": "stderr",
     "output_type": "stream",
     "text": [
      "c:\\Users\\ADMIN\\miniconda3\\envs\\stockqa\\Lib\\site-packages\\keras\\src\\layers\\rnn\\rnn.py:200: UserWarning: Do not pass an `input_shape`/`input_dim` argument to a layer. When using Sequential models, prefer using an `Input(shape)` object as the first layer in the model instead.\n",
      "  super().__init__(**kwargs)\n"
     ]
    },
    {
     "name": "stdout",
     "output_type": "stream",
     "text": [
      "\u001b[1m11/11\u001b[0m \u001b[32m━━━━━━━━━━━━━━━━━━━━\u001b[0m\u001b[37m\u001b[0m \u001b[1m0s\u001b[0m 15ms/step\n",
      "\u001b[1m1/1\u001b[0m \u001b[32m━━━━━━━━━━━━━━━━━━━━\u001b[0m\u001b[37m\u001b[0m \u001b[1m0s\u001b[0m 27ms/step\n"
     ]
    },
    {
     "name": "stderr",
     "output_type": "stream",
     "text": [
      "c:\\Users\\ADMIN\\miniconda3\\envs\\stockqa\\Lib\\site-packages\\keras\\src\\layers\\rnn\\rnn.py:200: UserWarning: Do not pass an `input_shape`/`input_dim` argument to a layer. When using Sequential models, prefer using an `Input(shape)` object as the first layer in the model instead.\n",
      "  super().__init__(**kwargs)\n"
     ]
    },
    {
     "name": "stdout",
     "output_type": "stream",
     "text": [
      "\u001b[1m3/3\u001b[0m \u001b[32m━━━━━━━━━━━━━━━━━━━━\u001b[0m\u001b[37m\u001b[0m \u001b[1m0s\u001b[0m 60ms/step\n",
      "\u001b[1m1/1\u001b[0m \u001b[32m━━━━━━━━━━━━━━━━━━━━\u001b[0m\u001b[37m\u001b[0m \u001b[1m0s\u001b[0m 26ms/step\n",
      "\n",
      "=== KẾT QUẢ TỔNG HỢP ===\n",
      "Tổng số mã xử lý thành công: 8\n",
      "R² trung bình: -2.5370\n",
      "RMSE trung bình: 1.6311\n",
      "Độ chính xác dự đoán hướng trung bình: 0.4565\n",
      "  ticker      rmse         r2  direction_accuracy  total_days\n",
      "0    TMB  2.119154   0.979336            0.482927        2081\n",
      "1    DDG  0.203651   0.933120            0.565495        1599\n",
      "2    AAT  0.092473   0.877254            0.402985        1036\n",
      "3    GH3  0.035424 -24.029927            0.026490         790\n",
      "4    BSA  0.550703   0.855705            0.708978        1650\n",
      "5    THM  0.537638  -1.482679            0.400000         306\n",
      "6    FRT  9.155113   0.859063            0.534682        1764\n",
      "7    SBG  0.354666   0.712271            0.530303         361\n",
      "9587\n",
      "7474\n",
      "1873\n"
     ]
    }
   ],
   "source": [
    "results = []\n",
    "\n",
    "bottom_r2_tickers = load_tickers_from_file(\"bottom_r2_tickers.txt\")\n",
    "print(bottom_r2_tickers)\n",
    "for ticker in bottom_r2_tickers:\n",
    "    result = train(ticker)\n",
    "    if result:\n",
    "        results.append(result)\n",
    "\n",
    "\n",
    "# Tạo DataFrame từ kết quả\n",
    "result_df = pd.DataFrame(results)\n",
    "\n",
    "# Hiển thị kết quả tổng hợp\n",
    "print(\"\\n=== KẾT QUẢ TỔNG HỢP ===\")\n",
    "print(f\"Tổng số mã xử lý thành công: {len(result_df)}\")\n",
    "print(f\"R² trung bình: {result_df['r2'].mean():.4f}\")\n",
    "print(f\"RMSE trung bình: {result_df['rmse'].mean():.4f}\")\n",
    "print(f\"Độ chính xác dự đoán hướng trung bình: {result_df['direction_accuracy'].mean():.4f}\")\n",
    "print(result_df[['ticker', 'rmse', 'r2', 'direction_accuracy', 'total_days']])\n",
    "print(result_df[\"total_days\"].sum())\n",
    "print(result_df[\"train_days\"].sum())\n",
    "print(result_df[\"test_days\"].sum())"
   ]
  },
  {
   "cell_type": "markdown",
   "id": "c04cc3a3",
   "metadata": {},
   "source": [
    "R2 TICKERS CAO NHẤT"
   ]
  },
  {
   "cell_type": "code",
   "execution_count": 16,
   "id": "a851266c",
   "metadata": {},
   "outputs": [
    {
     "name": "stdout",
     "output_type": "stream",
     "text": [
      "['DTL', 'TSC', 'TTF', 'VC2', 'S27', 'TBX', 'HTL', 'SRA', 'KMR', 'CVN']\n"
     ]
    },
    {
     "name": "stderr",
     "output_type": "stream",
     "text": [
      "C:\\Users\\ADMIN\\AppData\\Local\\Temp\\ipykernel_9204\\788956016.py:34: FutureWarning: Setting an item of incompatible dtype is deprecated and will raise an error in a future version of pandas. Value '0.01' has dtype incompatible with int64, please explicitly cast to a compatible dtype first.\n",
      "  df_features.loc[df_features['volume'] <= 0, 'volume'] = min_positive_volume * 0.01\n",
      "c:\\Users\\ADMIN\\miniconda3\\envs\\stockqa\\Lib\\site-packages\\keras\\src\\layers\\rnn\\rnn.py:200: UserWarning: Do not pass an `input_shape`/`input_dim` argument to a layer. When using Sequential models, prefer using an `Input(shape)` object as the first layer in the model instead.\n",
      "  super().__init__(**kwargs)\n"
     ]
    },
    {
     "name": "stdout",
     "output_type": "stream",
     "text": [
      "\u001b[1m23/23\u001b[0m \u001b[32m━━━━━━━━━━━━━━━━━━━━\u001b[0m\u001b[37m\u001b[0m \u001b[1m0s\u001b[0m 7ms/step\n",
      "\u001b[1m1/1\u001b[0m \u001b[32m━━━━━━━━━━━━━━━━━━━━\u001b[0m\u001b[37m\u001b[0m \u001b[1m0s\u001b[0m 25ms/step\n"
     ]
    },
    {
     "name": "stderr",
     "output_type": "stream",
     "text": [
      "C:\\Users\\ADMIN\\AppData\\Local\\Temp\\ipykernel_9204\\788956016.py:34: FutureWarning: Setting an item of incompatible dtype is deprecated and will raise an error in a future version of pandas. Value '0.1' has dtype incompatible with int64, please explicitly cast to a compatible dtype first.\n",
      "  df_features.loc[df_features['volume'] <= 0, 'volume'] = min_positive_volume * 0.01\n",
      "c:\\Users\\ADMIN\\miniconda3\\envs\\stockqa\\Lib\\site-packages\\keras\\src\\layers\\rnn\\rnn.py:200: UserWarning: Do not pass an `input_shape`/`input_dim` argument to a layer. When using Sequential models, prefer using an `Input(shape)` object as the first layer in the model instead.\n",
      "  super().__init__(**kwargs)\n"
     ]
    },
    {
     "name": "stdout",
     "output_type": "stream",
     "text": [
      "\u001b[1m28/28\u001b[0m \u001b[32m━━━━━━━━━━━━━━━━━━━━\u001b[0m\u001b[37m\u001b[0m \u001b[1m0s\u001b[0m 9ms/step\n",
      "\u001b[1m1/1\u001b[0m \u001b[32m━━━━━━━━━━━━━━━━━━━━\u001b[0m\u001b[37m\u001b[0m \u001b[1m0s\u001b[0m 27ms/step\n"
     ]
    },
    {
     "name": "stderr",
     "output_type": "stream",
     "text": [
      "C:\\Users\\ADMIN\\AppData\\Local\\Temp\\ipykernel_9204\\788956016.py:34: FutureWarning: Setting an item of incompatible dtype is deprecated and will raise an error in a future version of pandas. Value '0.1' has dtype incompatible with int64, please explicitly cast to a compatible dtype first.\n",
      "  df_features.loc[df_features['volume'] <= 0, 'volume'] = min_positive_volume * 0.01\n",
      "c:\\Users\\ADMIN\\miniconda3\\envs\\stockqa\\Lib\\site-packages\\keras\\src\\layers\\rnn\\rnn.py:200: UserWarning: Do not pass an `input_shape`/`input_dim` argument to a layer. When using Sequential models, prefer using an `Input(shape)` object as the first layer in the model instead.\n",
      "  super().__init__(**kwargs)\n"
     ]
    },
    {
     "name": "stdout",
     "output_type": "stream",
     "text": [
      "\u001b[1m27/27\u001b[0m \u001b[32m━━━━━━━━━━━━━━━━━━━━\u001b[0m\u001b[37m\u001b[0m \u001b[1m0s\u001b[0m 8ms/step\n",
      "\u001b[1m1/1\u001b[0m \u001b[32m━━━━━━━━━━━━━━━━━━━━\u001b[0m\u001b[37m\u001b[0m \u001b[1m0s\u001b[0m 25ms/step\n"
     ]
    },
    {
     "name": "stderr",
     "output_type": "stream",
     "text": [
      "C:\\Users\\ADMIN\\AppData\\Local\\Temp\\ipykernel_9204\\788956016.py:34: FutureWarning: Setting an item of incompatible dtype is deprecated and will raise an error in a future version of pandas. Value '0.01' has dtype incompatible with int64, please explicitly cast to a compatible dtype first.\n",
      "  df_features.loc[df_features['volume'] <= 0, 'volume'] = min_positive_volume * 0.01\n",
      "c:\\Users\\ADMIN\\miniconda3\\envs\\stockqa\\Lib\\site-packages\\keras\\src\\layers\\rnn\\rnn.py:200: UserWarning: Do not pass an `input_shape`/`input_dim` argument to a layer. When using Sequential models, prefer using an `Input(shape)` object as the first layer in the model instead.\n",
      "  super().__init__(**kwargs)\n"
     ]
    },
    {
     "name": "stdout",
     "output_type": "stream",
     "text": [
      "\u001b[1m29/29\u001b[0m \u001b[32m━━━━━━━━━━━━━━━━━━━━\u001b[0m\u001b[37m\u001b[0m \u001b[1m0s\u001b[0m 6ms/step\n",
      "\u001b[1m1/1\u001b[0m \u001b[32m━━━━━━━━━━━━━━━━━━━━\u001b[0m\u001b[37m\u001b[0m \u001b[1m0s\u001b[0m 24ms/step\n"
     ]
    },
    {
     "name": "stderr",
     "output_type": "stream",
     "text": [
      "C:\\Users\\ADMIN\\AppData\\Local\\Temp\\ipykernel_9204\\788956016.py:34: FutureWarning: Setting an item of incompatible dtype is deprecated and will raise an error in a future version of pandas. Value '0.1' has dtype incompatible with int64, please explicitly cast to a compatible dtype first.\n",
      "  df_features.loc[df_features['volume'] <= 0, 'volume'] = min_positive_volume * 0.01\n",
      "c:\\Users\\ADMIN\\miniconda3\\envs\\stockqa\\Lib\\site-packages\\keras\\src\\layers\\rnn\\rnn.py:200: UserWarning: Do not pass an `input_shape`/`input_dim` argument to a layer. When using Sequential models, prefer using an `Input(shape)` object as the first layer in the model instead.\n",
      "  super().__init__(**kwargs)\n"
     ]
    },
    {
     "name": "stdout",
     "output_type": "stream",
     "text": [
      "\u001b[1m20/20\u001b[0m \u001b[32m━━━━━━━━━━━━━━━━━━━━\u001b[0m\u001b[37m\u001b[0m \u001b[1m0s\u001b[0m 8ms/step\n",
      "\u001b[1m1/1\u001b[0m \u001b[32m━━━━━━━━━━━━━━━━━━━━\u001b[0m\u001b[37m\u001b[0m \u001b[1m0s\u001b[0m 25ms/step\n"
     ]
    },
    {
     "name": "stderr",
     "output_type": "stream",
     "text": [
      "C:\\Users\\ADMIN\\AppData\\Local\\Temp\\ipykernel_9204\\788956016.py:34: FutureWarning: Setting an item of incompatible dtype is deprecated and will raise an error in a future version of pandas. Value '0.01' has dtype incompatible with int64, please explicitly cast to a compatible dtype first.\n",
      "  df_features.loc[df_features['volume'] <= 0, 'volume'] = min_positive_volume * 0.01\n",
      "c:\\Users\\ADMIN\\miniconda3\\envs\\stockqa\\Lib\\site-packages\\keras\\src\\layers\\rnn\\rnn.py:200: UserWarning: Do not pass an `input_shape`/`input_dim` argument to a layer. When using Sequential models, prefer using an `Input(shape)` object as the first layer in the model instead.\n",
      "  super().__init__(**kwargs)\n"
     ]
    },
    {
     "name": "stdout",
     "output_type": "stream",
     "text": [
      "\u001b[1m25/25\u001b[0m \u001b[32m━━━━━━━━━━━━━━━━━━━━\u001b[0m\u001b[37m\u001b[0m \u001b[1m0s\u001b[0m 7ms/step\n",
      "\u001b[1m1/1\u001b[0m \u001b[32m━━━━━━━━━━━━━━━━━━━━\u001b[0m\u001b[37m\u001b[0m \u001b[1m0s\u001b[0m 17ms/step\n"
     ]
    },
    {
     "name": "stderr",
     "output_type": "stream",
     "text": [
      "C:\\Users\\ADMIN\\AppData\\Local\\Temp\\ipykernel_9204\\788956016.py:34: FutureWarning: Setting an item of incompatible dtype is deprecated and will raise an error in a future version of pandas. Value '0.01' has dtype incompatible with int64, please explicitly cast to a compatible dtype first.\n",
      "  df_features.loc[df_features['volume'] <= 0, 'volume'] = min_positive_volume * 0.01\n",
      "c:\\Users\\ADMIN\\miniconda3\\envs\\stockqa\\Lib\\site-packages\\keras\\src\\layers\\rnn\\rnn.py:200: UserWarning: Do not pass an `input_shape`/`input_dim` argument to a layer. When using Sequential models, prefer using an `Input(shape)` object as the first layer in the model instead.\n",
      "  super().__init__(**kwargs)\n"
     ]
    },
    {
     "name": "stdout",
     "output_type": "stream",
     "text": [
      "\u001b[1m23/23\u001b[0m \u001b[32m━━━━━━━━━━━━━━━━━━━━\u001b[0m\u001b[37m\u001b[0m \u001b[1m0s\u001b[0m 7ms/step\n",
      "\u001b[1m1/1\u001b[0m \u001b[32m━━━━━━━━━━━━━━━━━━━━\u001b[0m\u001b[37m\u001b[0m \u001b[1m0s\u001b[0m 29ms/step\n"
     ]
    },
    {
     "name": "stderr",
     "output_type": "stream",
     "text": [
      "c:\\Users\\ADMIN\\miniconda3\\envs\\stockqa\\Lib\\site-packages\\keras\\src\\layers\\rnn\\rnn.py:200: UserWarning: Do not pass an `input_shape`/`input_dim` argument to a layer. When using Sequential models, prefer using an `Input(shape)` object as the first layer in the model instead.\n",
      "  super().__init__(**kwargs)\n"
     ]
    },
    {
     "name": "stdout",
     "output_type": "stream",
     "text": [
      "\u001b[1m27/27\u001b[0m \u001b[32m━━━━━━━━━━━━━━━━━━━━\u001b[0m\u001b[37m\u001b[0m \u001b[1m0s\u001b[0m 7ms/step\n",
      "\u001b[1m1/1\u001b[0m \u001b[32m━━━━━━━━━━━━━━━━━━━━\u001b[0m\u001b[37m\u001b[0m \u001b[1m0s\u001b[0m 25ms/step\n"
     ]
    },
    {
     "name": "stderr",
     "output_type": "stream",
     "text": [
      "C:\\Users\\ADMIN\\AppData\\Local\\Temp\\ipykernel_9204\\788956016.py:34: FutureWarning: Setting an item of incompatible dtype is deprecated and will raise an error in a future version of pandas. Value '0.1' has dtype incompatible with int64, please explicitly cast to a compatible dtype first.\n",
      "  df_features.loc[df_features['volume'] <= 0, 'volume'] = min_positive_volume * 0.01\n",
      "c:\\Users\\ADMIN\\miniconda3\\envs\\stockqa\\Lib\\site-packages\\keras\\src\\layers\\rnn\\rnn.py:200: UserWarning: Do not pass an `input_shape`/`input_dim` argument to a layer. When using Sequential models, prefer using an `Input(shape)` object as the first layer in the model instead.\n",
      "  super().__init__(**kwargs)\n"
     ]
    },
    {
     "name": "stdout",
     "output_type": "stream",
     "text": [
      "\u001b[1m27/27\u001b[0m \u001b[32m━━━━━━━━━━━━━━━━━━━━\u001b[0m\u001b[37m\u001b[0m \u001b[1m0s\u001b[0m 6ms/step\n",
      "\u001b[1m1/1\u001b[0m \u001b[32m━━━━━━━━━━━━━━━━━━━━\u001b[0m\u001b[37m\u001b[0m \u001b[1m0s\u001b[0m 25ms/step\n"
     ]
    },
    {
     "name": "stderr",
     "output_type": "stream",
     "text": [
      "c:\\Users\\ADMIN\\miniconda3\\envs\\stockqa\\Lib\\site-packages\\keras\\src\\layers\\rnn\\rnn.py:200: UserWarning: Do not pass an `input_shape`/`input_dim` argument to a layer. When using Sequential models, prefer using an `Input(shape)` object as the first layer in the model instead.\n",
      "  super().__init__(**kwargs)\n"
     ]
    },
    {
     "name": "stdout",
     "output_type": "stream",
     "text": [
      "\u001b[1m22/22\u001b[0m \u001b[32m━━━━━━━━━━━━━━━━━━━━\u001b[0m\u001b[37m\u001b[0m \u001b[1m0s\u001b[0m 8ms/step\n",
      "\u001b[1m1/1\u001b[0m \u001b[32m━━━━━━━━━━━━━━━━━━━━\u001b[0m\u001b[37m\u001b[0m \u001b[1m0s\u001b[0m 34ms/step\n",
      "\n",
      "=== KẾT QUẢ TỔNG HỢP ===\n",
      "Tổng số mã xử lý thành công: 10\n",
      "R² trung bình: 0.8835\n",
      "RMSE trung bình: 0.3459\n",
      "Độ chính xác dự đoán hướng trung bình: 0.5515\n",
      "  ticker      rmse        r2  direction_accuracy  total_days\n",
      "0    DTL  0.529572  0.996462            0.462483        3698\n",
      "1    TSC  0.250044  0.996529            0.580275        4392\n",
      "2    TTF  0.235822  0.995327            0.450820        4303\n",
      "3    VC2  0.839480  0.996566            0.595838        4596\n",
      "4    S27  0.198108  0.995330            0.407225        3076\n",
      "5    TBX  0.247334 -0.116616            0.989704        3919\n",
      "6    HTL  0.506987  0.994458            0.399154        3577\n",
      "7    SRA  0.221267  0.994088            0.564593        4214\n",
      "8    KMR  0.144852  0.991210            0.613636        4215\n",
      "9    CVN  0.285215  0.991590            0.450867        3495\n",
      "39485\n",
      "31344\n",
      "7841\n"
     ]
    }
   ],
   "source": [
    "results = []\n",
    "\n",
    "top_r2_tickers = load_tickers_from_file(\"top_r2_tickers.txt\")\n",
    "print(top_r2_tickers)\n",
    "for ticker in top_r2_tickers:\n",
    "    result = train(ticker)\n",
    "    if result:\n",
    "        results.append(result)\n",
    "\n",
    "\n",
    "# Tạo DataFrame từ kết quả\n",
    "result_df = pd.DataFrame(results)\n",
    "\n",
    "# Hiển thị kết quả tổng hợp\n",
    "print(\"\\n=== KẾT QUẢ TỔNG HỢP ===\")\n",
    "print(f\"Tổng số mã xử lý thành công: {len(result_df)}\")\n",
    "print(f\"R² trung bình: {result_df['r2'].mean():.4f}\")\n",
    "print(f\"RMSE trung bình: {result_df['rmse'].mean():.4f}\")\n",
    "print(f\"Độ chính xác dự đoán hướng trung bình: {result_df['direction_accuracy'].mean():.4f}\")\n",
    "print(result_df[['ticker', 'rmse', 'r2', 'direction_accuracy','total_days']])\n",
    "print(result_df[\"total_days\"].sum())\n",
    "print(result_df[\"train_days\"].sum())\n",
    "print(result_df[\"test_days\"].sum())"
   ]
  },
  {
   "cell_type": "markdown",
   "id": "40fb01d6",
   "metadata": {},
   "source": [
    "RMSE TICKERS THAP NHAT"
   ]
  },
  {
   "cell_type": "code",
   "execution_count": 17,
   "id": "52d28938",
   "metadata": {},
   "outputs": [
    {
     "name": "stdout",
     "output_type": "stream",
     "text": [
      "['UMC', 'FCC', 'DPS', 'V11', 'ACM', 'NHP', 'HKB', 'CAD', 'G20', 'PVH']\n",
      "⚠️ UMC có giá close không hợp lệ (âm hoặc bằng 0)\n",
      "⚠️ FCC có giá close không hợp lệ (âm hoặc bằng 0)\n"
     ]
    },
    {
     "name": "stderr",
     "output_type": "stream",
     "text": [
      "C:\\Users\\ADMIN\\AppData\\Local\\Temp\\ipykernel_9204\\788956016.py:34: FutureWarning: Setting an item of incompatible dtype is deprecated and will raise an error in a future version of pandas. Value '0.4' has dtype incompatible with int64, please explicitly cast to a compatible dtype first.\n",
      "  df_features.loc[df_features['volume'] <= 0, 'volume'] = min_positive_volume * 0.01\n",
      "c:\\Users\\ADMIN\\miniconda3\\envs\\stockqa\\Lib\\site-packages\\keras\\src\\layers\\rnn\\rnn.py:200: UserWarning: Do not pass an `input_shape`/`input_dim` argument to a layer. When using Sequential models, prefer using an `Input(shape)` object as the first layer in the model instead.\n",
      "  super().__init__(**kwargs)\n"
     ]
    },
    {
     "name": "stdout",
     "output_type": "stream",
     "text": [
      "\u001b[1m15/15\u001b[0m \u001b[32m━━━━━━━━━━━━━━━━━━━━\u001b[0m\u001b[37m\u001b[0m \u001b[1m0s\u001b[0m 10ms/step\n",
      "\u001b[1m1/1\u001b[0m \u001b[32m━━━━━━━━━━━━━━━━━━━━\u001b[0m\u001b[37m\u001b[0m \u001b[1m0s\u001b[0m 24ms/step\n",
      "⚠️ V11 có giá close không hợp lệ (âm hoặc bằng 0)\n"
     ]
    },
    {
     "name": "stderr",
     "output_type": "stream",
     "text": [
      "C:\\Users\\ADMIN\\AppData\\Local\\Temp\\ipykernel_9204\\788956016.py:34: FutureWarning: Setting an item of incompatible dtype is deprecated and will raise an error in a future version of pandas. Value '0.01' has dtype incompatible with int64, please explicitly cast to a compatible dtype first.\n",
      "  df_features.loc[df_features['volume'] <= 0, 'volume'] = min_positive_volume * 0.01\n",
      "C:\\Users\\ADMIN\\AppData\\Local\\Temp\\ipykernel_9204\\788956016.py:34: FutureWarning: Setting an item of incompatible dtype is deprecated and will raise an error in a future version of pandas. Value '12.02' has dtype incompatible with int64, please explicitly cast to a compatible dtype first.\n",
      "  df_features.loc[df_features['volume'] <= 0, 'volume'] = min_positive_volume * 0.01\n",
      "c:\\Users\\ADMIN\\miniconda3\\envs\\stockqa\\Lib\\site-packages\\keras\\src\\layers\\rnn\\rnn.py:200: UserWarning: Do not pass an `input_shape`/`input_dim` argument to a layer. When using Sequential models, prefer using an `Input(shape)` object as the first layer in the model instead.\n",
      "  super().__init__(**kwargs)\n"
     ]
    },
    {
     "name": "stdout",
     "output_type": "stream",
     "text": [
      "\u001b[1m15/15\u001b[0m \u001b[32m━━━━━━━━━━━━━━━━━━━━\u001b[0m\u001b[37m\u001b[0m \u001b[1m0s\u001b[0m 10ms/step\n",
      "\u001b[1m1/1\u001b[0m \u001b[32m━━━━━━━━━━━━━━━━━━━━\u001b[0m\u001b[37m\u001b[0m \u001b[1m0s\u001b[0m 20ms/step\n"
     ]
    },
    {
     "name": "stderr",
     "output_type": "stream",
     "text": [
      "c:\\Users\\ADMIN\\miniconda3\\envs\\stockqa\\Lib\\site-packages\\keras\\src\\layers\\rnn\\rnn.py:200: UserWarning: Do not pass an `input_shape`/`input_dim` argument to a layer. When using Sequential models, prefer using an `Input(shape)` object as the first layer in the model instead.\n",
      "  super().__init__(**kwargs)\n"
     ]
    },
    {
     "name": "stdout",
     "output_type": "stream",
     "text": [
      "\u001b[1m15/15\u001b[0m \u001b[32m━━━━━━━━━━━━━━━━━━━━\u001b[0m\u001b[37m\u001b[0m \u001b[1m0s\u001b[0m 10ms/step\n",
      "\u001b[1m1/1\u001b[0m \u001b[32m━━━━━━━━━━━━━━━━━━━━\u001b[0m\u001b[37m\u001b[0m \u001b[1m0s\u001b[0m 24ms/step\n"
     ]
    },
    {
     "name": "stderr",
     "output_type": "stream",
     "text": [
      "c:\\Users\\ADMIN\\miniconda3\\envs\\stockqa\\Lib\\site-packages\\keras\\src\\layers\\rnn\\rnn.py:200: UserWarning: Do not pass an `input_shape`/`input_dim` argument to a layer. When using Sequential models, prefer using an `Input(shape)` object as the first layer in the model instead.\n",
      "  super().__init__(**kwargs)\n"
     ]
    },
    {
     "name": "stdout",
     "output_type": "stream",
     "text": [
      "\u001b[1m15/15\u001b[0m \u001b[32m━━━━━━━━━━━━━━━━━━━━\u001b[0m\u001b[37m\u001b[0m \u001b[1m0s\u001b[0m 10ms/step\n",
      "\u001b[1m1/1\u001b[0m \u001b[32m━━━━━━━━━━━━━━━━━━━━\u001b[0m\u001b[37m\u001b[0m \u001b[1m0s\u001b[0m 26ms/step\n"
     ]
    },
    {
     "name": "stderr",
     "output_type": "stream",
     "text": [
      "C:\\Users\\ADMIN\\AppData\\Local\\Temp\\ipykernel_9204\\788956016.py:34: FutureWarning: Setting an item of incompatible dtype is deprecated and will raise an error in a future version of pandas. Value '0.01' has dtype incompatible with int64, please explicitly cast to a compatible dtype first.\n",
      "  df_features.loc[df_features['volume'] <= 0, 'volume'] = min_positive_volume * 0.01\n",
      "C:\\Users\\ADMIN\\AppData\\Local\\Temp\\ipykernel_9204\\788956016.py:34: FutureWarning: Setting an item of incompatible dtype is deprecated and will raise an error in a future version of pandas. Value '0.1' has dtype incompatible with int64, please explicitly cast to a compatible dtype first.\n",
      "  df_features.loc[df_features['volume'] <= 0, 'volume'] = min_positive_volume * 0.01\n",
      "c:\\Users\\ADMIN\\miniconda3\\envs\\stockqa\\Lib\\site-packages\\keras\\src\\layers\\rnn\\rnn.py:200: UserWarning: Do not pass an `input_shape`/`input_dim` argument to a layer. When using Sequential models, prefer using an `Input(shape)` object as the first layer in the model instead.\n",
      "  super().__init__(**kwargs)\n"
     ]
    },
    {
     "name": "stdout",
     "output_type": "stream",
     "text": [
      "⚠️ CAD có giá close không hợp lệ (âm hoặc bằng 0)\n",
      "\u001b[1m15/15\u001b[0m \u001b[32m━━━━━━━━━━━━━━━━━━━━\u001b[0m\u001b[37m\u001b[0m \u001b[1m0s\u001b[0m 10ms/step\n",
      "\u001b[1m1/1\u001b[0m \u001b[32m━━━━━━━━━━━━━━━━━━━━\u001b[0m\u001b[37m\u001b[0m \u001b[1m0s\u001b[0m 19ms/step\n"
     ]
    },
    {
     "name": "stderr",
     "output_type": "stream",
     "text": [
      "c:\\Users\\ADMIN\\miniconda3\\envs\\stockqa\\Lib\\site-packages\\keras\\src\\layers\\rnn\\rnn.py:200: UserWarning: Do not pass an `input_shape`/`input_dim` argument to a layer. When using Sequential models, prefer using an `Input(shape)` object as the first layer in the model instead.\n",
      "  super().__init__(**kwargs)\n"
     ]
    },
    {
     "name": "stdout",
     "output_type": "stream",
     "text": [
      "\u001b[1m12/12\u001b[0m \u001b[32m━━━━━━━━━━━━━━━━━━━━\u001b[0m\u001b[37m\u001b[0m \u001b[1m0s\u001b[0m 13ms/step\n",
      "\u001b[1m1/1\u001b[0m \u001b[32m━━━━━━━━━━━━━━━━━━━━\u001b[0m\u001b[37m\u001b[0m \u001b[1m0s\u001b[0m 26ms/step\n",
      "\n",
      "=== KẾT QUẢ TỔNG HỢP ===\n",
      "Tổng số mã xử lý thành công: 6\n",
      "R² trung bình: 0.7859\n",
      "RMSE trung bình: 0.0588\n",
      "Độ chính xác dự đoán hướng trung bình: 0.3863\n",
      "  ticker      rmse        r2  direction_accuracy  total_days\n",
      "0    DPS  0.068551  0.809584            0.314978        2305\n",
      "1    ACM  0.049990  0.766259            0.427938        2289\n",
      "2    NHP  0.057216  0.900846            0.183983        2341\n",
      "3    HKB  0.076576  0.456882            0.330472        2362\n",
      "4    G20  0.050678  0.844228            0.295745        2381\n",
      "5    PVH  0.049497  0.937466            0.764543        1839\n",
      "13517\n",
      "10667\n",
      "2670\n"
     ]
    }
   ],
   "source": [
    "results = []\n",
    "\n",
    "low_rmse_tickers = load_tickers_from_file(\"lowest_rmse_tickers.txt\")\n",
    "print(low_rmse_tickers)\n",
    "for ticker in low_rmse_tickers:\n",
    "    result = train(ticker)\n",
    "    if result:\n",
    "        results.append(result)\n",
    "\n",
    "\n",
    "# Tạo DataFrame từ kết quả\n",
    "result_df = pd.DataFrame(results)\n",
    "\n",
    "# Hiển thị kết quả tổng hợp\n",
    "print(\"\\n=== KẾT QUẢ TỔNG HỢP ===\")\n",
    "print(f\"Tổng số mã xử lý thành công: {len(result_df)}\")\n",
    "print(f\"R² trung bình: {result_df['r2'].mean():.4f}\")\n",
    "print(f\"RMSE trung bình: {result_df['rmse'].mean():.4f}\")\n",
    "print(f\"Độ chính xác dự đoán hướng trung bình: {result_df['direction_accuracy'].mean():.4f}\")\n",
    "print(result_df[['ticker', 'rmse', 'r2', 'direction_accuracy', 'total_days']])\n",
    "print(result_df[\"total_days\"].sum())\n",
    "print(result_df[\"train_days\"].sum())\n",
    "print(result_df[\"test_days\"].sum())"
   ]
  },
  {
   "cell_type": "markdown",
   "id": "383c99c5",
   "metadata": {},
   "source": [
    "RMSE CAO NHAT"
   ]
  },
  {
   "cell_type": "code",
   "execution_count": 18,
   "id": "b9b81745",
   "metadata": {},
   "outputs": [
    {
     "name": "stdout",
     "output_type": "stream",
     "text": [
      "['HGM', 'KSV', 'VE4', 'CMF', 'FRT', 'WCS', 'MCH', 'PDN', 'TOS', 'AGX']\n"
     ]
    },
    {
     "name": "stderr",
     "output_type": "stream",
     "text": [
      "C:\\Users\\ADMIN\\AppData\\Local\\Temp\\ipykernel_9204\\788956016.py:34: FutureWarning: Setting an item of incompatible dtype is deprecated and will raise an error in a future version of pandas. Value '0.01' has dtype incompatible with int64, please explicitly cast to a compatible dtype first.\n",
      "  df_features.loc[df_features['volume'] <= 0, 'volume'] = min_positive_volume * 0.01\n",
      "c:\\Users\\ADMIN\\miniconda3\\envs\\stockqa\\Lib\\site-packages\\keras\\src\\layers\\rnn\\rnn.py:200: UserWarning: Do not pass an `input_shape`/`input_dim` argument to a layer. When using Sequential models, prefer using an `Input(shape)` object as the first layer in the model instead.\n",
      "  super().__init__(**kwargs)\n"
     ]
    },
    {
     "name": "stdout",
     "output_type": "stream",
     "text": [
      "\u001b[1m24/24\u001b[0m \u001b[32m━━━━━━━━━━━━━━━━━━━━\u001b[0m\u001b[37m\u001b[0m \u001b[1m0s\u001b[0m 7ms/step\n",
      "\u001b[1m1/1\u001b[0m \u001b[32m━━━━━━━━━━━━━━━━━━━━\u001b[0m\u001b[37m\u001b[0m \u001b[1m0s\u001b[0m 19ms/step\n"
     ]
    },
    {
     "name": "stderr",
     "output_type": "stream",
     "text": [
      "C:\\Users\\ADMIN\\AppData\\Local\\Temp\\ipykernel_9204\\788956016.py:34: FutureWarning: Setting an item of incompatible dtype is deprecated and will raise an error in a future version of pandas. Value '0.01' has dtype incompatible with int64, please explicitly cast to a compatible dtype first.\n",
      "  df_features.loc[df_features['volume'] <= 0, 'volume'] = min_positive_volume * 0.01\n",
      "c:\\Users\\ADMIN\\miniconda3\\envs\\stockqa\\Lib\\site-packages\\keras\\src\\layers\\rnn\\rnn.py:200: UserWarning: Do not pass an `input_shape`/`input_dim` argument to a layer. When using Sequential models, prefer using an `Input(shape)` object as the first layer in the model instead.\n",
      "  super().__init__(**kwargs)\n"
     ]
    },
    {
     "name": "stdout",
     "output_type": "stream",
     "text": [
      "\u001b[1m14/14\u001b[0m \u001b[32m━━━━━━━━━━━━━━━━━━━━\u001b[0m\u001b[37m\u001b[0m \u001b[1m0s\u001b[0m 11ms/step\n",
      "\u001b[1m1/1\u001b[0m \u001b[32m━━━━━━━━━━━━━━━━━━━━\u001b[0m\u001b[37m\u001b[0m \u001b[1m0s\u001b[0m 27ms/step\n"
     ]
    },
    {
     "name": "stderr",
     "output_type": "stream",
     "text": [
      "C:\\Users\\ADMIN\\AppData\\Local\\Temp\\ipykernel_9204\\788956016.py:34: FutureWarning: Setting an item of incompatible dtype is deprecated and will raise an error in a future version of pandas. Value '0.01' has dtype incompatible with int64, please explicitly cast to a compatible dtype first.\n",
      "  df_features.loc[df_features['volume'] <= 0, 'volume'] = min_positive_volume * 0.01\n",
      "c:\\Users\\ADMIN\\miniconda3\\envs\\stockqa\\Lib\\site-packages\\keras\\src\\layers\\rnn\\rnn.py:200: UserWarning: Do not pass an `input_shape`/`input_dim` argument to a layer. When using Sequential models, prefer using an `Input(shape)` object as the first layer in the model instead.\n",
      "  super().__init__(**kwargs)\n"
     ]
    },
    {
     "name": "stdout",
     "output_type": "stream",
     "text": [
      "\u001b[1m19/19\u001b[0m \u001b[32m━━━━━━━━━━━━━━━━━━━━\u001b[0m\u001b[37m\u001b[0m \u001b[1m0s\u001b[0m 8ms/step\n",
      "\u001b[1m1/1\u001b[0m \u001b[32m━━━━━━━━━━━━━━━━━━━━\u001b[0m\u001b[37m\u001b[0m \u001b[1m0s\u001b[0m 25ms/step\n"
     ]
    },
    {
     "name": "stderr",
     "output_type": "stream",
     "text": [
      "C:\\Users\\ADMIN\\AppData\\Local\\Temp\\ipykernel_9204\\788956016.py:34: FutureWarning: Setting an item of incompatible dtype is deprecated and will raise an error in a future version of pandas. Value '0.01' has dtype incompatible with int64, please explicitly cast to a compatible dtype first.\n",
      "  df_features.loc[df_features['volume'] <= 0, 'volume'] = min_positive_volume * 0.01\n",
      "c:\\Users\\ADMIN\\miniconda3\\envs\\stockqa\\Lib\\site-packages\\keras\\src\\layers\\rnn\\rnn.py:200: UserWarning: Do not pass an `input_shape`/`input_dim` argument to a layer. When using Sequential models, prefer using an `Input(shape)` object as the first layer in the model instead.\n",
      "  super().__init__(**kwargs)\n"
     ]
    },
    {
     "name": "stdout",
     "output_type": "stream",
     "text": [
      "\u001b[1m13/13\u001b[0m \u001b[32m━━━━━━━━━━━━━━━━━━━━\u001b[0m\u001b[37m\u001b[0m \u001b[1m0s\u001b[0m 3ms/step  \n",
      "\u001b[1m1/1\u001b[0m \u001b[32m━━━━━━━━━━━━━━━━━━━━\u001b[0m\u001b[37m\u001b[0m \u001b[1m0s\u001b[0m 123ms/step\n"
     ]
    },
    {
     "name": "stderr",
     "output_type": "stream",
     "text": [
      "c:\\Users\\ADMIN\\miniconda3\\envs\\stockqa\\Lib\\site-packages\\keras\\src\\layers\\rnn\\rnn.py:200: UserWarning: Do not pass an `input_shape`/`input_dim` argument to a layer. When using Sequential models, prefer using an `Input(shape)` object as the first layer in the model instead.\n",
      "  super().__init__(**kwargs)\n"
     ]
    },
    {
     "name": "stdout",
     "output_type": "stream",
     "text": [
      "\u001b[1m11/11\u001b[0m \u001b[32m━━━━━━━━━━━━━━━━━━━━\u001b[0m\u001b[37m\u001b[0m \u001b[1m0s\u001b[0m 13ms/step\n",
      "\u001b[1m1/1\u001b[0m \u001b[32m━━━━━━━━━━━━━━━━━━━━\u001b[0m\u001b[37m\u001b[0m \u001b[1m0s\u001b[0m 28ms/step\n"
     ]
    },
    {
     "name": "stderr",
     "output_type": "stream",
     "text": [
      "C:\\Users\\ADMIN\\AppData\\Local\\Temp\\ipykernel_9204\\788956016.py:34: FutureWarning: Setting an item of incompatible dtype is deprecated and will raise an error in a future version of pandas. Value '0.01' has dtype incompatible with int64, please explicitly cast to a compatible dtype first.\n",
      "  df_features.loc[df_features['volume'] <= 0, 'volume'] = min_positive_volume * 0.01\n",
      "c:\\Users\\ADMIN\\miniconda3\\envs\\stockqa\\Lib\\site-packages\\keras\\src\\layers\\rnn\\rnn.py:200: UserWarning: Do not pass an `input_shape`/`input_dim` argument to a layer. When using Sequential models, prefer using an `Input(shape)` object as the first layer in the model instead.\n",
      "  super().__init__(**kwargs)\n"
     ]
    },
    {
     "name": "stdout",
     "output_type": "stream",
     "text": [
      "\u001b[1m23/23\u001b[0m \u001b[32m━━━━━━━━━━━━━━━━━━━━\u001b[0m\u001b[37m\u001b[0m \u001b[1m0s\u001b[0m 7ms/step\n",
      "\u001b[1m1/1\u001b[0m \u001b[32m━━━━━━━━━━━━━━━━━━━━\u001b[0m\u001b[37m\u001b[0m \u001b[1m0s\u001b[0m 23ms/step\n"
     ]
    },
    {
     "name": "stderr",
     "output_type": "stream",
     "text": [
      "C:\\Users\\ADMIN\\AppData\\Local\\Temp\\ipykernel_9204\\788956016.py:34: FutureWarning: Setting an item of incompatible dtype is deprecated and will raise an error in a future version of pandas. Value '0.03' has dtype incompatible with int64, please explicitly cast to a compatible dtype first.\n",
      "  df_features.loc[df_features['volume'] <= 0, 'volume'] = min_positive_volume * 0.01\n",
      "c:\\Users\\ADMIN\\miniconda3\\envs\\stockqa\\Lib\\site-packages\\keras\\src\\layers\\rnn\\rnn.py:200: UserWarning: Do not pass an `input_shape`/`input_dim` argument to a layer. When using Sequential models, prefer using an `Input(shape)` object as the first layer in the model instead.\n",
      "  super().__init__(**kwargs)\n"
     ]
    },
    {
     "name": "stdout",
     "output_type": "stream",
     "text": [
      "\u001b[1m13/13\u001b[0m \u001b[32m━━━━━━━━━━━━━━━━━━━━\u001b[0m\u001b[37m\u001b[0m \u001b[1m0s\u001b[0m 11ms/step\n",
      "\u001b[1m1/1\u001b[0m \u001b[32m━━━━━━━━━━━━━━━━━━━━\u001b[0m\u001b[37m\u001b[0m \u001b[1m0s\u001b[0m 25ms/step\n"
     ]
    },
    {
     "name": "stderr",
     "output_type": "stream",
     "text": [
      "C:\\Users\\ADMIN\\AppData\\Local\\Temp\\ipykernel_9204\\788956016.py:34: FutureWarning: Setting an item of incompatible dtype is deprecated and will raise an error in a future version of pandas. Value '0.01' has dtype incompatible with int64, please explicitly cast to a compatible dtype first.\n",
      "  df_features.loc[df_features['volume'] <= 0, 'volume'] = min_positive_volume * 0.01\n",
      "c:\\Users\\ADMIN\\miniconda3\\envs\\stockqa\\Lib\\site-packages\\keras\\src\\layers\\rnn\\rnn.py:200: UserWarning: Do not pass an `input_shape`/`input_dim` argument to a layer. When using Sequential models, prefer using an `Input(shape)` object as the first layer in the model instead.\n",
      "  super().__init__(**kwargs)\n"
     ]
    },
    {
     "name": "stdout",
     "output_type": "stream",
     "text": [
      "\u001b[1m21/21\u001b[0m \u001b[32m━━━━━━━━━━━━━━━━━━━━\u001b[0m\u001b[37m\u001b[0m \u001b[1m0s\u001b[0m 8ms/step\n",
      "\u001b[1m1/1\u001b[0m \u001b[32m━━━━━━━━━━━━━━━━━━━━\u001b[0m\u001b[37m\u001b[0m \u001b[1m0s\u001b[0m 24ms/step\n"
     ]
    },
    {
     "name": "stderr",
     "output_type": "stream",
     "text": [
      "C:\\Users\\ADMIN\\AppData\\Local\\Temp\\ipykernel_9204\\788956016.py:34: FutureWarning: Setting an item of incompatible dtype is deprecated and will raise an error in a future version of pandas. Value '0.01' has dtype incompatible with int64, please explicitly cast to a compatible dtype first.\n",
      "  df_features.loc[df_features['volume'] <= 0, 'volume'] = min_positive_volume * 0.01\n",
      "c:\\Users\\ADMIN\\miniconda3\\envs\\stockqa\\Lib\\site-packages\\keras\\src\\layers\\rnn\\rnn.py:200: UserWarning: Do not pass an `input_shape`/`input_dim` argument to a layer. When using Sequential models, prefer using an `Input(shape)` object as the first layer in the model instead.\n",
      "  super().__init__(**kwargs)\n"
     ]
    },
    {
     "name": "stdout",
     "output_type": "stream",
     "text": [
      "\u001b[1m6/6\u001b[0m \u001b[32m━━━━━━━━━━━━━━━━━━━━\u001b[0m\u001b[37m\u001b[0m \u001b[1m0s\u001b[0m 23ms/step\n",
      "\u001b[1m1/1\u001b[0m \u001b[32m━━━━━━━━━━━━━━━━━━━━\u001b[0m\u001b[37m\u001b[0m \u001b[1m0s\u001b[0m 24ms/step\n",
      "⚠️ AGX có giá close không hợp lệ (âm hoặc bằng 0)\n",
      "\n",
      "=== KẾT QUẢ TỔNG HỢP ===\n",
      "Tổng số mã xử lý thành công: 9\n",
      "R² trung bình: 0.9637\n",
      "RMSE trung bình: 9.0405\n",
      "Độ chính xác dự đoán hướng trung bình: 0.5621\n",
      "  ticker       rmse        r2  direction_accuracy  total_days\n",
      "0    HGM  15.883857  0.966474            0.700787        3843\n",
      "1    KSV  13.512932  0.959116            0.451389        2194\n",
      "2    VE4   6.361411  0.994757            0.555938        2939\n",
      "3    CMF  15.588533  0.935999            0.698795        2106\n",
      "4    FRT   3.142394  0.983396            0.537572        1764\n",
      "5    WCS   8.148068  0.984581            0.394958        3605\n",
      "6    MCH   3.031451  0.994174            0.506083        2088\n",
      "7    PDN   5.847358  0.936612            0.651719        3379\n",
      "8    TOS   9.848429  0.918499            0.561798         921\n",
      "22839\n",
      "18052\n",
      "4517\n"
     ]
    },
    {
     "name": "stderr",
     "output_type": "stream",
     "text": [
      "C:\\Users\\ADMIN\\AppData\\Local\\Temp\\ipykernel_9204\\788956016.py:34: FutureWarning: Setting an item of incompatible dtype is deprecated and will raise an error in a future version of pandas. Value '0.01' has dtype incompatible with int64, please explicitly cast to a compatible dtype first.\n",
      "  df_features.loc[df_features['volume'] <= 0, 'volume'] = min_positive_volume * 0.01\n"
     ]
    }
   ],
   "source": [
    "results = []\n",
    "\n",
    "high_rmse_tickers = load_tickers_from_file(\"highest_rmse_tickers.txt\")\n",
    "print(high_rmse_tickers)\n",
    "for ticker in high_rmse_tickers:\n",
    "    result = train(ticker)\n",
    "    if result:\n",
    "        results.append(result)\n",
    "\n",
    "\n",
    "# Tạo DataFrame từ kết quả\n",
    "result_df = pd.DataFrame(results)\n",
    "\n",
    "# Hiển thị kết quả tổng hợp\n",
    "print(\"\\n=== KẾT QUẢ TỔNG HỢP ===\")\n",
    "print(f\"Tổng số mã xử lý thành công: {len(result_df)}\")\n",
    "print(f\"R² trung bình: {result_df['r2'].mean():.4f}\")\n",
    "print(f\"RMSE trung bình: {result_df['rmse'].mean():.4f}\")\n",
    "print(f\"Độ chính xác dự đoán hướng trung bình: {result_df['direction_accuracy'].mean():.4f}\")\n",
    "print(result_df[['ticker', 'rmse', 'r2', 'direction_accuracy', 'total_days']])\n",
    "print(result_df[\"total_days\"].sum())\n",
    "print(result_df[\"train_days\"].sum())\n",
    "print(result_df[\"test_days\"].sum())"
   ]
  },
  {
   "cell_type": "markdown",
   "id": "0ee7d15a",
   "metadata": {},
   "source": [
    "Directional Acc Thap nhat"
   ]
  },
  {
   "cell_type": "code",
   "execution_count": 19,
   "id": "c1cb0940",
   "metadata": {},
   "outputs": [
    {
     "name": "stderr",
     "output_type": "stream",
     "text": [
      "C:\\Users\\ADMIN\\AppData\\Local\\Temp\\ipykernel_9204\\788956016.py:34: FutureWarning: Setting an item of incompatible dtype is deprecated and will raise an error in a future version of pandas. Value '0.4' has dtype incompatible with int64, please explicitly cast to a compatible dtype first.\n",
      "  df_features.loc[df_features['volume'] <= 0, 'volume'] = min_positive_volume * 0.01\n",
      "C:\\Users\\ADMIN\\AppData\\Local\\Temp\\ipykernel_9204\\788956016.py:34: FutureWarning: Setting an item of incompatible dtype is deprecated and will raise an error in a future version of pandas. Value '0.29' has dtype incompatible with int64, please explicitly cast to a compatible dtype first.\n",
      "  df_features.loc[df_features['volume'] <= 0, 'volume'] = min_positive_volume * 0.01\n",
      "C:\\Users\\ADMIN\\AppData\\Local\\Temp\\ipykernel_9204\\788956016.py:34: FutureWarning: Setting an item of incompatible dtype is deprecated and will raise an error in a future version of pandas. Value '0.06' has dtype incompatible with int64, please explicitly cast to a compatible dtype first.\n",
      "  df_features.loc[df_features['volume'] <= 0, 'volume'] = min_positive_volume * 0.01\n",
      "C:\\Users\\ADMIN\\AppData\\Local\\Temp\\ipykernel_9204\\788956016.py:34: FutureWarning: Setting an item of incompatible dtype is deprecated and will raise an error in a future version of pandas. Value '0.8' has dtype incompatible with int64, please explicitly cast to a compatible dtype first.\n",
      "  df_features.loc[df_features['volume'] <= 0, 'volume'] = min_positive_volume * 0.01\n",
      "c:\\Users\\ADMIN\\miniconda3\\envs\\stockqa\\Lib\\site-packages\\keras\\src\\layers\\rnn\\rnn.py:200: UserWarning: Do not pass an `input_shape`/`input_dim` argument to a layer. When using Sequential models, prefer using an `Input(shape)` object as the first layer in the model instead.\n",
      "  super().__init__(**kwargs)\n"
     ]
    },
    {
     "name": "stdout",
     "output_type": "stream",
     "text": [
      "['FCC', 'BHG', 'CDG', 'UMC', 'TQN', 'DKC', 'SDX', 'MPT', 'FGL', 'RCD']\n",
      "⚠️ FCC có giá close không hợp lệ (âm hoặc bằng 0)\n",
      "⚠️ BHG có giá close không hợp lệ (âm hoặc bằng 0)\n",
      "⚠️ CDG có giá close không hợp lệ (âm hoặc bằng 0)\n",
      "⚠️ UMC có giá close không hợp lệ (âm hoặc bằng 0)\n",
      "⚠️ TQN có giá close không hợp lệ (âm hoặc bằng 0)\n",
      "\u001b[1m7/7\u001b[0m \u001b[32m━━━━━━━━━━━━━━━━━━━━\u001b[0m\u001b[37m\u001b[0m \u001b[1m0s\u001b[0m 20ms/step\n",
      "\u001b[1m1/1\u001b[0m \u001b[32m━━━━━━━━━━━━━━━━━━━━\u001b[0m\u001b[37m\u001b[0m \u001b[1m0s\u001b[0m 23ms/step\n",
      "⚠️ SDX có giá close không hợp lệ (âm hoặc bằng 0)\n"
     ]
    },
    {
     "name": "stderr",
     "output_type": "stream",
     "text": [
      "c:\\Users\\ADMIN\\miniconda3\\envs\\stockqa\\Lib\\site-packages\\keras\\src\\layers\\rnn\\rnn.py:200: UserWarning: Do not pass an `input_shape`/`input_dim` argument to a layer. When using Sequential models, prefer using an `Input(shape)` object as the first layer in the model instead.\n",
      "  super().__init__(**kwargs)\n"
     ]
    },
    {
     "name": "stdout",
     "output_type": "stream",
     "text": [
      "\u001b[1m14/14\u001b[0m \u001b[32m━━━━━━━━━━━━━━━━━━━━\u001b[0m\u001b[37m\u001b[0m \u001b[1m0s\u001b[0m 11ms/step\n",
      "\u001b[1m1/1\u001b[0m \u001b[32m━━━━━━━━━━━━━━━━━━━━\u001b[0m\u001b[37m\u001b[0m \u001b[1m0s\u001b[0m 26ms/step\n",
      "⚠️ FGL có giá close không hợp lệ (âm hoặc bằng 0)\n",
      "⚠️ RCD có giá close không hợp lệ (âm hoặc bằng 0)\n",
      "\n",
      "=== KẾT QUẢ TỔNG HỢP ===\n",
      "Tổng số mã xử lý thành công: 2\n",
      "R² trung bình: 0.4684\n",
      "RMSE trung bình: 0.0619\n",
      "Độ chính xác dự đoán hướng trung bình: 0.7667\n",
      "  ticker      rmse        r2  direction_accuracy  total_days\n",
      "0    DKC  0.042041  0.587706            0.964286        1011\n",
      "1    MPT  0.081788  0.349110            0.569087        2166\n",
      "3177\n",
      "2492\n",
      "625\n"
     ]
    },
    {
     "name": "stderr",
     "output_type": "stream",
     "text": [
      "C:\\Users\\ADMIN\\AppData\\Local\\Temp\\ipykernel_9204\\788956016.py:34: FutureWarning: Setting an item of incompatible dtype is deprecated and will raise an error in a future version of pandas. Value '0.01' has dtype incompatible with int64, please explicitly cast to a compatible dtype first.\n",
      "  df_features.loc[df_features['volume'] <= 0, 'volume'] = min_positive_volume * 0.01\n"
     ]
    }
   ],
   "source": [
    "results = []\n",
    "\n",
    "low_dir_tickers = load_tickers_from_file(\"lowest_dir_accuracy_tickers.txt\")\n",
    "print(low_dir_tickers)\n",
    "for ticker in low_dir_tickers:\n",
    "    result = train(ticker)\n",
    "    if result:\n",
    "        results.append(result)\n",
    "\n",
    "\n",
    "# Tạo DataFrame từ kết quả\n",
    "result_df = pd.DataFrame(results)\n",
    "\n",
    "# Hiển thị kết quả tổng hợp\n",
    "print(\"\\n=== KẾT QUẢ TỔNG HỢP ===\")\n",
    "print(f\"Tổng số mã xử lý thành công: {len(result_df)}\")\n",
    "print(f\"R² trung bình: {result_df['r2'].mean():.4f}\")\n",
    "print(f\"RMSE trung bình: {result_df['rmse'].mean():.4f}\")\n",
    "print(f\"Độ chính xác dự đoán hướng trung bình: {result_df['direction_accuracy'].mean():.4f}\")\n",
    "print(result_df[['ticker', 'rmse', 'r2', 'direction_accuracy', 'total_days']])\n",
    "print(result_df[\"total_days\"].sum())\n",
    "print(result_df[\"train_days\"].sum())\n",
    "print(result_df[\"test_days\"].sum())"
   ]
  },
  {
   "cell_type": "markdown",
   "id": "d5ae579e",
   "metadata": {},
   "source": [
    "Directional Accuracy cao nhat"
   ]
  },
  {
   "cell_type": "code",
   "execution_count": 20,
   "id": "e8196042",
   "metadata": {},
   "outputs": [
    {
     "name": "stdout",
     "output_type": "stream",
     "text": [
      "['MEF', 'NQT', 'PTG', 'MTB', 'NAC', 'MND', 'HLT', 'QNU', 'VXP', 'GH3']\n",
      "⚠️ MEF có giá close không hợp lệ (âm hoặc bằng 0)\n",
      "⚠️ NQT có giá close không hợp lệ (âm hoặc bằng 0)\n",
      "⚠️ PTG có giá close không hợp lệ (âm hoặc bằng 0)\n"
     ]
    },
    {
     "name": "stderr",
     "output_type": "stream",
     "text": [
      "C:\\Users\\ADMIN\\AppData\\Local\\Temp\\ipykernel_9204\\788956016.py:34: FutureWarning: Setting an item of incompatible dtype is deprecated and will raise an error in a future version of pandas. Value '0.1' has dtype incompatible with int64, please explicitly cast to a compatible dtype first.\n",
      "  df_features.loc[df_features['volume'] <= 0, 'volume'] = min_positive_volume * 0.01\n",
      "C:\\Users\\ADMIN\\AppData\\Local\\Temp\\ipykernel_9204\\788956016.py:34: FutureWarning: Setting an item of incompatible dtype is deprecated and will raise an error in a future version of pandas. Value '0.02' has dtype incompatible with int64, please explicitly cast to a compatible dtype first.\n",
      "  df_features.loc[df_features['volume'] <= 0, 'volume'] = min_positive_volume * 0.01\n",
      "C:\\Users\\ADMIN\\AppData\\Local\\Temp\\ipykernel_9204\\788956016.py:34: FutureWarning: Setting an item of incompatible dtype is deprecated and will raise an error in a future version of pandas. Value '0.1' has dtype incompatible with int64, please explicitly cast to a compatible dtype first.\n",
      "  df_features.loc[df_features['volume'] <= 0, 'volume'] = min_positive_volume * 0.01\n",
      "c:\\Users\\ADMIN\\miniconda3\\envs\\stockqa\\Lib\\site-packages\\keras\\src\\layers\\rnn\\rnn.py:200: UserWarning: Do not pass an `input_shape`/`input_dim` argument to a layer. When using Sequential models, prefer using an `Input(shape)` object as the first layer in the model instead.\n",
      "  super().__init__(**kwargs)\n"
     ]
    },
    {
     "name": "stdout",
     "output_type": "stream",
     "text": [
      "\u001b[1m6/6\u001b[0m \u001b[32m━━━━━━━━━━━━━━━━━━━━\u001b[0m\u001b[37m\u001b[0m \u001b[1m0s\u001b[0m 25ms/step\n",
      "\u001b[1m1/1\u001b[0m \u001b[32m━━━━━━━━━━━━━━━━━━━━\u001b[0m\u001b[37m\u001b[0m \u001b[1m0s\u001b[0m 24ms/step\n"
     ]
    },
    {
     "name": "stderr",
     "output_type": "stream",
     "text": [
      "C:\\Users\\ADMIN\\AppData\\Local\\Temp\\ipykernel_9204\\788956016.py:34: FutureWarning: Setting an item of incompatible dtype is deprecated and will raise an error in a future version of pandas. Value '0.08' has dtype incompatible with int64, please explicitly cast to a compatible dtype first.\n",
      "  df_features.loc[df_features['volume'] <= 0, 'volume'] = min_positive_volume * 0.01\n",
      "c:\\Users\\ADMIN\\miniconda3\\envs\\stockqa\\Lib\\site-packages\\keras\\src\\layers\\rnn\\rnn.py:200: UserWarning: Do not pass an `input_shape`/`input_dim` argument to a layer. When using Sequential models, prefer using an `Input(shape)` object as the first layer in the model instead.\n",
      "  super().__init__(**kwargs)\n"
     ]
    },
    {
     "name": "stdout",
     "output_type": "stream",
     "text": [
      "\u001b[1m12/12\u001b[0m \u001b[32m━━━━━━━━━━━━━━━━━━━━\u001b[0m\u001b[37m\u001b[0m \u001b[1m0s\u001b[0m 13ms/step\n",
      "\u001b[1m1/1\u001b[0m \u001b[32m━━━━━━━━━━━━━━━━━━━━\u001b[0m\u001b[37m\u001b[0m \u001b[1m0s\u001b[0m 21ms/step\n",
      "⚠️ MND có giá close không hợp lệ (âm hoặc bằng 0)\n"
     ]
    },
    {
     "name": "stderr",
     "output_type": "stream",
     "text": [
      "C:\\Users\\ADMIN\\AppData\\Local\\Temp\\ipykernel_9204\\788956016.py:34: FutureWarning: Setting an item of incompatible dtype is deprecated and will raise an error in a future version of pandas. Value '0.01' has dtype incompatible with int64, please explicitly cast to a compatible dtype first.\n",
      "  df_features.loc[df_features['volume'] <= 0, 'volume'] = min_positive_volume * 0.01\n",
      "c:\\Users\\ADMIN\\miniconda3\\envs\\stockqa\\Lib\\site-packages\\keras\\src\\layers\\rnn\\rnn.py:200: UserWarning: Do not pass an `input_shape`/`input_dim` argument to a layer. When using Sequential models, prefer using an `Input(shape)` object as the first layer in the model instead.\n",
      "  super().__init__(**kwargs)\n"
     ]
    },
    {
     "name": "stdout",
     "output_type": "stream",
     "text": [
      "\u001b[1m7/7\u001b[0m \u001b[32m━━━━━━━━━━━━━━━━━━━━\u001b[0m\u001b[37m\u001b[0m \u001b[1m0s\u001b[0m 21ms/step\n",
      "\u001b[1m1/1\u001b[0m \u001b[32m━━━━━━━━━━━━━━━━━━━━\u001b[0m\u001b[37m\u001b[0m \u001b[1m0s\u001b[0m 24ms/step\n",
      "⚠️ QNU có giá close không hợp lệ (âm hoặc bằng 0)\n"
     ]
    },
    {
     "name": "stderr",
     "output_type": "stream",
     "text": [
      "c:\\Users\\ADMIN\\miniconda3\\envs\\stockqa\\Lib\\site-packages\\keras\\src\\layers\\rnn\\rnn.py:200: UserWarning: Do not pass an `input_shape`/`input_dim` argument to a layer. When using Sequential models, prefer using an `Input(shape)` object as the first layer in the model instead.\n",
      "  super().__init__(**kwargs)\n"
     ]
    },
    {
     "name": "stdout",
     "output_type": "stream",
     "text": [
      "\u001b[1m8/8\u001b[0m \u001b[32m━━━━━━━━━━━━━━━━━━━━\u001b[0m\u001b[37m\u001b[0m \u001b[1m0s\u001b[0m 18ms/step\n",
      "\u001b[1m1/1\u001b[0m \u001b[32m━━━━━━━━━━━━━━━━━━━━\u001b[0m\u001b[37m\u001b[0m \u001b[1m0s\u001b[0m 23ms/step\n"
     ]
    },
    {
     "name": "stderr",
     "output_type": "stream",
     "text": [
      "c:\\Users\\ADMIN\\miniconda3\\envs\\stockqa\\Lib\\site-packages\\keras\\src\\layers\\rnn\\rnn.py:200: UserWarning: Do not pass an `input_shape`/`input_dim` argument to a layer. When using Sequential models, prefer using an `Input(shape)` object as the first layer in the model instead.\n",
      "  super().__init__(**kwargs)\n"
     ]
    },
    {
     "name": "stdout",
     "output_type": "stream",
     "text": [
      "\u001b[1m5/5\u001b[0m \u001b[32m━━━━━━━━━━━━━━━━━━━━\u001b[0m\u001b[37m\u001b[0m \u001b[1m0s\u001b[0m 30ms/step\n",
      "\u001b[1m1/1\u001b[0m \u001b[32m━━━━━━━━━━━━━━━━━━━━\u001b[0m\u001b[37m\u001b[0m \u001b[1m0s\u001b[0m 26ms/step\n",
      "\n",
      "=== KẾT QUẢ TỔNG HỢP ===\n",
      "Tổng số mã xử lý thành công: 5\n",
      "R² trung bình: -157268130452735406920171520.0000\n",
      "RMSE trung bình: 0.3148\n",
      "Độ chính xác dự đoán hướng trung bình: 0.5856\n",
      "  ticker      rmse            r2  direction_accuracy  total_days\n",
      "0    MTB  0.076273 -4.609199e+26            1.000000         903\n",
      "1    NAC  0.023485  9.644980e-01            0.839779        1841\n",
      "2    HLT  1.299436  6.995321e-01            0.081081        1143\n",
      "3    VXP  0.128178 -3.254207e+26            0.987500        1235\n",
      "4    GH3  0.046650 -4.240802e+01            0.019868         790\n",
      "5912\n",
      "4608\n",
      "1154\n"
     ]
    }
   ],
   "source": [
    "results = []\n",
    "\n",
    "high_dir_tickers = load_tickers_from_file(\"highest_dir_accuracy_tickers.txt\")\n",
    "print(high_dir_tickers)\n",
    "for ticker in high_dir_tickers:\n",
    "    result = train(ticker)\n",
    "    if result:\n",
    "        results.append(result)\n",
    "\n",
    "\n",
    "# Tạo DataFrame từ kết quả\n",
    "result_df = pd.DataFrame(results)\n",
    "\n",
    "# Hiển thị kết quả tổng hợp\n",
    "print(\"\\n=== KẾT QUẢ TỔNG HỢP ===\")\n",
    "print(f\"Tổng số mã xử lý thành công: {len(result_df)}\")\n",
    "print(f\"R² trung bình: {result_df['r2'].mean():.4f}\")\n",
    "print(f\"RMSE trung bình: {result_df['rmse'].mean():.4f}\")\n",
    "print(f\"Độ chính xác dự đoán hướng trung bình: {result_df['direction_accuracy'].mean():.4f}\")\n",
    "print(result_df[['ticker', 'rmse', 'r2', 'direction_accuracy', 'total_days']])\n",
    "print(result_df[\"total_days\"].sum())\n",
    "print(result_df[\"train_days\"].sum())\n",
    "print(result_df[\"test_days\"].sum())"
   ]
  }
 ],
 "metadata": {
  "kernelspec": {
   "display_name": "stockqa",
   "language": "python",
   "name": "python3"
  },
  "language_info": {
   "codemirror_mode": {
    "name": "ipython",
    "version": 3
   },
   "file_extension": ".py",
   "mimetype": "text/x-python",
   "name": "python",
   "nbconvert_exporter": "python",
   "pygments_lexer": "ipython3",
   "version": "3.12.9"
  }
 },
 "nbformat": 4,
 "nbformat_minor": 5
}
